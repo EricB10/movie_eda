{
 "cells": [
  {
   "cell_type": "code",
   "execution_count": 1,
   "metadata": {},
   "outputs": [],
   "source": [
    "import numpy as np\n",
    "import pandas as pd\n",
    "import json\n",
    "import requests\n",
    "import ast"
   ]
  },
  {
   "cell_type": "code",
   "execution_count": 2,
   "metadata": {},
   "outputs": [],
   "source": [
    "from eric_keys import eric_omdb_key, eric_tmdb_key, eric_tmdb_token\n",
    "from eric_test import *\n",
    "from functions import *"
   ]
  },
  {
   "cell_type": "code",
   "execution_count": 92,
   "metadata": {},
   "outputs": [
    {
     "data": {
      "text/html": [
       "<div>\n",
       "<style scoped>\n",
       "    .dataframe tbody tr th:only-of-type {\n",
       "        vertical-align: middle;\n",
       "    }\n",
       "\n",
       "    .dataframe tbody tr th {\n",
       "        vertical-align: top;\n",
       "    }\n",
       "\n",
       "    .dataframe thead th {\n",
       "        text-align: right;\n",
       "    }\n",
       "</style>\n",
       "<table border=\"1\" class=\"dataframe\">\n",
       "  <thead>\n",
       "    <tr style=\"text-align: right;\">\n",
       "      <th></th>\n",
       "      <th>imdb_id</th>\n",
       "      <th>budget</th>\n",
       "      <th>revenue</th>\n",
       "      <th>genre_names</th>\n",
       "      <th>original_title</th>\n",
       "      <th>runtime</th>\n",
       "      <th>status</th>\n",
       "      <th>countries</th>\n",
       "      <th>title</th>\n",
       "      <th>original_language</th>\n",
       "      <th>avg_vote</th>\n",
       "      <th>vote_count</th>\n",
       "      <th>popularity</th>\n",
       "      <th>genres</th>\n",
       "      <th>year</th>\n",
       "    </tr>\n",
       "    <tr>\n",
       "      <th>id</th>\n",
       "      <th></th>\n",
       "      <th></th>\n",
       "      <th></th>\n",
       "      <th></th>\n",
       "      <th></th>\n",
       "      <th></th>\n",
       "      <th></th>\n",
       "      <th></th>\n",
       "      <th></th>\n",
       "      <th></th>\n",
       "      <th></th>\n",
       "      <th></th>\n",
       "      <th></th>\n",
       "      <th></th>\n",
       "      <th></th>\n",
       "    </tr>\n",
       "  </thead>\n",
       "  <tbody>\n",
       "    <tr>\n",
       "      <th>55</th>\n",
       "      <td>tt0245712</td>\n",
       "      <td>2000000</td>\n",
       "      <td>20908467</td>\n",
       "      <td>['Drama', 'Thriller']</td>\n",
       "      <td>Amores perros</td>\n",
       "      <td>154.0</td>\n",
       "      <td>Released</td>\n",
       "      <td>['Mexico']</td>\n",
       "      <td>Amores Perros</td>\n",
       "      <td>es</td>\n",
       "      <td>7.6</td>\n",
       "      <td>1257</td>\n",
       "      <td>16.137</td>\n",
       "      <td>[18, 53]</td>\n",
       "      <td>2000</td>\n",
       "    </tr>\n",
       "  </tbody>\n",
       "</table>\n",
       "</div>"
      ],
      "text/plain": [
       "      imdb_id   budget   revenue            genre_names original_title  \\\n",
       "id                                                                       \n",
       "55  tt0245712  2000000  20908467  ['Drama', 'Thriller']  Amores perros   \n",
       "\n",
       "    runtime    status   countries          title original_language  avg_vote  \\\n",
       "id                                                                             \n",
       "55    154.0  Released  ['Mexico']  Amores Perros                es       7.6   \n",
       "\n",
       "    vote_count  popularity    genres  year  \n",
       "id                                          \n",
       "55        1257      16.137  [18, 53]  2000  "
      ]
     },
     "execution_count": 92,
     "metadata": {},
     "output_type": "execute_result"
    }
   ],
   "source": [
    "# Open Clean DF\n",
    "df = pd.read_csv('clean_df.csv', index_col='id').sort_index()\n",
    "df.head(1)"
   ]
  },
  {
   "cell_type": "code",
   "execution_count": null,
   "metadata": {},
   "outputs": [],
   "source": []
  }
 ],
 "metadata": {
  "kernelspec": {
   "display_name": "Python 3",
   "language": "python",
   "name": "python3"
  },
  "language_info": {
   "codemirror_mode": {
    "name": "ipython",
    "version": 3
   },
   "file_extension": ".py",
   "mimetype": "text/x-python",
   "name": "python",
   "nbconvert_exporter": "python",
   "pygments_lexer": "ipython3",
   "version": "3.7.6"
  }
 },
 "nbformat": 4,
 "nbformat_minor": 4
}
