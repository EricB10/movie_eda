{
 "cells": [
  {
   "cell_type": "code",
   "execution_count": 24,
   "metadata": {},
   "outputs": [],
   "source": [
    "import numpy as np\n",
    "import pandas as pd\n",
    "import json\n",
    "import requests\n",
    "import ast\n",
    "\n",
    "from imdb import IMDb\n",
    "ia = IMDb()\n",
    "\n",
    "import matplotlib.pyplot as plt\n",
    "from matplotlib import style\n",
    "style.use('seaborn')\n",
    "%matplotlib inline"
   ]
  },
  {
   "cell_type": "code",
   "execution_count": 25,
   "metadata": {},
   "outputs": [],
   "source": [
    "from eric_keys import eric_omdb_key, eric_tmdb_key, eric_tmdb_token\n",
    "from eric_analysis import language_count, top_five_lang"
   ]
  },
  {
   "cell_type": "code",
   "execution_count": 26,
   "metadata": {
    "scrolled": true
   },
   "outputs": [
    {
     "data": {
      "text/plain": [
       "Index(['imdb_id', 'budget', 'revenue', 'genre_names', 'original_title',\n",
       "       'runtime', 'status', 'countries', 'title', 'original_language',\n",
       "       'avg_vote', 'vote_count', 'popularity', 'genres', 'year', '90s', '00s',\n",
       "       '10s', 'Drama', 'Thriller', 'Romance', 'Adventure', 'Action', 'History',\n",
       "       'Comedy', 'Mystery', 'Fantasy', 'Animation', 'Family', 'Crime', 'War',\n",
       "       'Science Fiction', 'Horror', 'Music', 'Western', 'TV Movie', 'profit',\n",
       "       'profit_margin'],\n",
       "      dtype='object')"
      ]
     },
     "execution_count": 26,
     "metadata": {},
     "output_type": "execute_result"
    }
   ],
   "source": [
    "# Read Clean csv\n",
    "df = pd.read_csv('clean_df.csv', index_col='id').sort_index()\n",
    "df['genre_names']=df['genre_names'].apply(lambda x: ast.literal_eval(x))\n",
    "df['countries']=df['countries'].apply(lambda x: ast.literal_eval(x))\n",
    "df.keys()"
   ]
  },
  {
   "cell_type": "code",
   "execution_count": 38,
   "metadata": {},
   "outputs": [
    {
     "data": {
      "text/plain": [
       "{'movie_count': 360,\n",
       " 'mean_vote_count': 555,\n",
       " 'median_vote_count': 386,\n",
       " '90s_mean_vote': 7.0,\n",
       " '00s_mean_vote': 6.5,\n",
       " '10s_mean_vote': 6.5,\n",
       " '90s_median_vote': 7.2,\n",
       " '00s_median_vote': 6.6,\n",
       " '10s_median_vote': 6.5,\n",
       " '90s_mean_popularity': 11.3,\n",
       " '00s_mean_popularity': 10.1,\n",
       " '10s_mean_popularity': 9.7,\n",
       " '90s_median_popularity': 10.7,\n",
       " '00s_median_popularity': 9.0,\n",
       " '10s_median_popularity': 8.2,\n",
       " '90s_mean_budget': 8100000,\n",
       " '00s_mean_budget': 18681576,\n",
       " '10s_mean_budget': 14056526,\n",
       " '90s_median_budget': 5750000,\n",
       " '00s_median_budget': 13000000,\n",
       " '10s_median_budget': 11000000,\n",
       " '90s_mean_revenue': 1548804,\n",
       " '00s_mean_revenue': 30365334,\n",
       " '10s_mean_revenue': 17681061,\n",
       " '90s_median_revenue': 1281096,\n",
       " '00s_median_revenue': 19407884,\n",
       " '10s_median_revenue': 10207312,\n",
       " '90s_mean_profit': -7292985,\n",
       " '00s_mean_profit': 15641526,\n",
       " '10s_mean_profit': 12286095,\n",
       " '90s_median_profit': -5373796,\n",
       " '00s_median_profit': 4614406,\n",
       " '10s_median_profit': 1611650,\n",
       " '90s_mean_profit_margin': -516,\n",
       " '00s_mean_profit_margin': -543,\n",
       " '10s_mean_profit_margin': -50,\n",
       " '90s_median_profit_margin': -516,\n",
       " '00s_median_profit_margin': 27,\n",
       " '10s_median_profit_margin': 14}"
      ]
     },
     "execution_count": 38,
     "metadata": {},
     "output_type": "execute_result"
    }
   ],
   "source": [
    "top_five_lang['French']"
   ]
  },
  {
   "cell_type": "code",
   "execution_count": 27,
   "metadata": {},
   "outputs": [
    {
     "data": {
      "text/plain": [
       "dict_keys(['movie_count', 'mean_vote_count', 'median_vote_count', '90s_mean_vote', '00s_mean_vote', '10s_mean_vote', '90s_median_vote', '00s_median_vote', '10s_median_vote', '90s_mean_popularity', '00s_mean_popularity', '10s_mean_popularity', '90s_median_popularity', '00s_median_popularity', '10s_median_popularity', '90s_mean_budget', '00s_mean_budget', '10s_mean_budget', '90s_median_budget', '00s_median_budget', '10s_median_budget', '90s_mean_revenue', '00s_mean_revenue', '10s_mean_revenue', '90s_median_revenue', '00s_median_revenue', '10s_median_revenue', '90s_mean_profit', '00s_mean_profit', '10s_mean_profit', '90s_median_profit', '00s_median_profit', '10s_median_profit', '90s_mean_profit_margin', '00s_mean_profit_margin', '10s_mean_profit_margin', '90s_median_profit_margin', '00s_median_profit_margin', '10s_median_profit_margin'])"
      ]
     },
     "execution_count": 27,
     "metadata": {},
     "output_type": "execute_result"
    }
   ],
   "source": [
    "top_five_lang['French'].keys()"
   ]
  },
  {
   "cell_type": "code",
   "execution_count": 37,
   "metadata": {},
   "outputs": [
    {
     "data": {
      "text/plain": [
       "[<matplotlib.lines.Line2D at 0x11a166f90>]"
      ]
     },
     "execution_count": 37,
     "metadata": {},
     "output_type": "execute_result"
    },
    {
     "data": {
      "image/png": "[encoded data removed]",
      "text/plain": [
       "<Figure size 432x288 with 1 Axes>"
      ]
     },
     "metadata": {
      "needs_background": "light"
     },
     "output_type": "display_data"
    }
   ],
   "source": [
    "top_five_list = list(top_five_lang.keys())\n",
    "decades = ['90s', '00s', '10s']\n",
    "test = [top_five_lang['French'][f'{decade}_mean_vote'] for decade in decades]\n",
    "fig, ax = plt.subplots()\n",
    "ax.plot(decades, test)"
   ]
  },
  {
   "cell_type": "code",
   "execution_count": null,
   "metadata": {},
   "outputs": [],
   "source": []
  },
  {
   "cell_type": "code",
   "execution_count": null,
   "metadata": {},
   "outputs": [],
   "source": []
  },
  {
   "cell_type": "code",
   "execution_count": null,
   "metadata": {},
   "outputs": [],
   "source": [
    "ages = data['Age']\n",
    "dev_salaries = data['All_Devs']\n",
    "py_salaries = data['Python']\n",
    "js_salaries = data['JavaScript']\n",
    "\n",
    "fig, (ax1, ax2) = plt.subplots(nrows=2, ncols=1)\n",
    "\n",
    "ax1.plot(ages, dev_salaries, color='#444444',\n",
    "         linestyle='--', label='All Devs')\n",
    "\n",
    "ax2.plot(ages, py_salaries, label='Python')\n",
    "ax2.plot(ages, js_salaries, label='JavaScript')\n",
    "\n",
    "ax1.legend()\n",
    "ax1.set_title('Median Salary (USD) by Age')\n",
    "# X Label unnecessary on ax1\n",
    "# ax1.set_xlabel('Ages')\n",
    "ax1.set_label('Median Salary (USD)')\n",
    "\n",
    "ax2.legend()\n",
    "# Title unnecessary on ax2\n",
    "# ax2.set_title('Median Salary (USD) by Age')\n",
    "ax2.set_xlabel('Ages')\n",
    "ax2.set_label('Median Salary (USD)')\n",
    "\n",
    "plt.tight_layout()\n",
    "\n",
    "plt.show()"
   ]
  }
 ],
 "metadata": {
  "kernelspec": {
   "display_name": "Python 3",
   "language": "python",
   "name": "python3"
  },
  "language_info": {
   "codemirror_mode": {
    "name": "ipython",
    "version": 3
   },
   "file_extension": ".py",
   "mimetype": "text/x-python",
   "name": "python",
   "nbconvert_exporter": "python",
   "pygments_lexer": "ipython3",
   "version": "3.7.6"
  }
 },
 "nbformat": 4,
 "nbformat_minor": 4
}
