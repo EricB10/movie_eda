{
 "cells": [
  {
   "cell_type": "code",
   "execution_count": 47,
   "metadata": {},
   "outputs": [],
   "source": [
    "import csv\n",
    "import requests\n",
    "import pandas as pd\n",
    "import numpy as np\n",
    "import matplotlib.pyplot as plt\n",
    "from zawar_keys import tapi_key,oapi_key"
   ]
  },
  {
   "cell_type": "code",
   "execution_count": 26,
   "metadata": {},
   "outputs": [],
   "source": [
    "url='https://api.themoviedb.org/3/movie/top_rated?api_key={}'.format(tapi_key)\n",
    "url_params={'page': 1}"
   ]
  },
  {
   "cell_type": "code",
   "execution_count": 27,
   "metadata": {},
   "outputs": [
    {
     "data": {
      "text/plain": [
       "200"
      ]
     },
     "execution_count": 27,
     "metadata": {},
     "output_type": "execute_result"
    }
   ],
   "source": [
    "response=requests.get(url,params=url_params)\n",
    "response.status_code"
   ]
  },
  {
   "cell_type": "code",
   "execution_count": 28,
   "metadata": {},
   "outputs": [],
   "source": [
    "def get_tmdb_toprated(params,api_key):\n",
    "    url='https://api.themoviedb.org/3/movie/top_rated?api_key={}'.format(api_key)\n",
    "    response=requests.get(url,params=params)\n",
    "    return response.json()"
   ]
  },
  {
   "cell_type": "code",
   "execution_count": 29,
   "metadata": {},
   "outputs": [],
   "source": [
    "response=get_tmdb_toprated(url_params,tapi_key)"
   ]
  },
  {
   "cell_type": "code",
   "execution_count": 57,
   "metadata": {},
   "outputs": [
    {
     "data": {
      "text/plain": [
       "357"
      ]
     },
     "execution_count": 57,
     "metadata": {},
     "output_type": "execute_result"
    }
   ],
   "source": [
    "response['total_pages']"
   ]
  },
  {
   "cell_type": "code",
   "execution_count": 38,
   "metadata": {},
   "outputs": [
    {
     "data": {
      "text/plain": [
       "{'popularity': 29.678,\n",
       " 'vote_count': 2238,\n",
       " 'video': False,\n",
       " 'poster_path': '/2CAL2433ZeIihfX1Hb2139CX0pW.jpg',\n",
       " 'id': 19404,\n",
       " 'adult': False,\n",
       " 'backdrop_path': '/yFryZAcSO1XEwENkYUquQ6EBGsD.jpg',\n",
       " 'original_language': 'hi',\n",
       " 'original_title': 'दिलवाले दुल्हनिया ले जायेंगे',\n",
       " 'genre_ids': [35, 18, 10749],\n",
       " 'title': 'Dilwale Dulhania Le Jayenge',\n",
       " 'vote_average': 8.8,\n",
       " 'overview': 'Raj is a rich, carefree, happy-go-lucky second generation NRI. Simran is the daughter of Chaudhary Baldev Singh, who in spite of being an NRI is very strict about adherence to Indian values. Simran has left for India to be married to her childhood fiancé. Raj leaves for India with a mission at his hands, to claim his lady love under the noses of her whole family. Thus begins a saga.',\n",
       " 'release_date': '1995-10-20'}"
      ]
     },
     "execution_count": 38,
     "metadata": {},
     "output_type": "execute_result"
    }
   ],
   "source": [
    "#for i in response['results']:\n",
    "response['results'][0]"
   ]
  },
  {
   "cell_type": "code",
   "execution_count": 44,
   "metadata": {},
   "outputs": [],
   "source": [
    "def parse_toprated(toprated):\n",
    "    parsed_data=[]\n",
    "    for i in toprated['results']:\n",
    "        data=[\n",
    "            i['id'],i['title'],i['original_language'],i['vote_average'],i['vote_count'],i['popularity'],\n",
    "            i['genre_ids'],i['release_date'],i['adult']\n",
    "        ]\n",
    "        parsed_data.append(data)\n",
    "    return parsed_data"
   ]
  },
  {
   "cell_type": "code",
   "execution_count": 46,
   "metadata": {},
   "outputs": [],
   "source": [
    "parsed_responses=parse_toprated(response)"
   ]
  },
  {
   "cell_type": "code",
   "execution_count": 66,
   "metadata": {},
   "outputs": [],
   "source": [
    "with open(\"TMDB_toprated.csv\", \"w\", newline=\"\", encoding='utf-8') as f:\n",
    "    writer = csv.writer(f)\n",
    "    writer.writerows([['id','title','original_language','avg_vote','vote_count','popularity','genres','release_date','adult']])"
   ]
  },
  {
   "cell_type": "code",
   "execution_count": 64,
   "metadata": {},
   "outputs": [],
   "source": [
    "def save_data(file_name,data):\n",
    "    with open(file_name, \"a\", newline=\"\", encoding='utf-8') as a:\n",
    "        writer = csv.writer(a)\n",
    "        writer.writerows(data)"
   ]
  },
  {
   "cell_type": "code",
   "execution_count": 56,
   "metadata": {},
   "outputs": [],
   "source": [
    "save_data('TMDB_toprated.csv',parsed_responses)"
   ]
  },
  {
   "cell_type": "code",
   "execution_count": 67,
   "metadata": {},
   "outputs": [],
   "source": [
    "p=1\n",
    "while p<=357:\n",
    "    url_params['page']=p\n",
    "    \n",
    "    results=get_tmdb_toprated(url_params,tapi_key)\n",
    "    \n",
    "    parsed_results=parse_toprated(results)\n",
    "    \n",
    "    save_data(\"TMDB_toprated.csv\",parsed_results)\n",
    "    p+=1"
   ]
  },
  {
   "cell_type": "code",
   "execution_count": 68,
   "metadata": {},
   "outputs": [
    {
     "name": "stdout",
     "output_type": "stream",
     "text": [
      "358\n"
     ]
    }
   ],
   "source": [
    "print(p)"
   ]
  },
  {
   "cell_type": "code",
   "execution_count": null,
   "metadata": {},
   "outputs": [],
   "source": []
  }
 ],
 "metadata": {
  "kernelspec": {
   "display_name": "Python 3",
   "language": "python",
   "name": "python3"
  },
  "language_info": {
   "codemirror_mode": {
    "name": "ipython",
    "version": 3
   },
   "file_extension": ".py",
   "mimetype": "text/x-python",
   "name": "python",
   "nbconvert_exporter": "python",
   "pygments_lexer": "ipython3",
   "version": "3.7.6"
  }
 },
 "nbformat": 4,
 "nbformat_minor": 4
}
