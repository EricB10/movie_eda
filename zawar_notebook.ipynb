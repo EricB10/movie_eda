{
 "cells": [
  {
   "cell_type": "code",
   "execution_count": 47,
   "metadata": {},
   "outputs": [],
   "source": [
    "import csv\n",
    "import requests\n",
    "import pandas as pd\n",
    "import numpy as np\n",
    "import matplotlib.pyplot as plt\n",
    "from zawar_keys import tapi_key,oapi_key"
   ]
  },
  {
   "cell_type": "code",
   "execution_count": 26,
   "metadata": {},
   "outputs": [],
   "source": [
    "url='https://api.themoviedb.org/3/movie/top_rated?api_key={}'.format(tapi_key)\n",
    "url_params={'page': 1}"
   ]
  },
  {
   "cell_type": "code",
   "execution_count": 28,
   "metadata": {},
   "outputs": [],
   "source": [
    "def get_tmdb_toprated(params,api_key):\n",
    "    url='https://api.themoviedb.org/3/movie/top_rated?api_key={}'.format(api_key)\n",
    "    response=requests.get(url,params=params)\n",
    "    return response.json()"
   ]
  },
  {
   "cell_type": "code",
   "execution_count": 29,
   "metadata": {},
   "outputs": [],
   "source": [
    "response=get_tmdb_toprated(url_params,tapi_key)"
   ]
  },
  {
   "cell_type": "code",
   "execution_count": 57,
   "metadata": {},
   "outputs": [
    {
     "data": {
      "text/plain": [
       "357"
      ]
     },
     "execution_count": 57,
     "metadata": {},
     "output_type": "execute_result"
    }
   ],
   "source": [
    "response['total_pages']"
   ]
  },
  {
   "cell_type": "code",
   "execution_count": 44,
   "metadata": {},
   "outputs": [],
   "source": [
    "def parse_toprated(toprated):\n",
    "    parsed_data=[]\n",
    "    for i in toprated['results']:\n",
    "        data=[\n",
    "            i['id'],i['title'],i['original_language'],i['vote_average'],i['vote_count'],i['popularity'],\n",
    "            i['genre_ids'],i['release_date'],i['adult']\n",
    "        ]\n",
    "        parsed_data.append(data)\n",
    "    return parsed_data"
   ]
  },
  {
   "cell_type": "code",
   "execution_count": 64,
   "metadata": {},
   "outputs": [],
   "source": [
    "def save_data(file_name,data):\n",
    "    with open(file_name, \"a\", newline=\"\", encoding='utf-8') as a:\n",
    "        writer = csv.writer(a)\n",
    "        writer.writerows(data)"
   ]
  },
  {
   "cell_type": "code",
   "execution_count": 66,
   "metadata": {},
   "outputs": [],
   "source": [
    "with open(\"TMDB_toprated.csv\", \"w\", newline=\"\", encoding='utf-8') as f:\n",
    "    writer = csv.writer(f)\n",
    "    writer.writerows([['id','title','original_language','avg_vote','vote_count','popularity','genres','release_date','adult']])"
   ]
  },
  {
   "cell_type": "code",
   "execution_count": 67,
   "metadata": {},
   "outputs": [],
   "source": [
    "p=1\n",
    "while p<=357:\n",
    "    url_params['page']=p\n",
    "    \n",
    "    results=get_tmdb_toprated(url_params,tapi_key)\n",
    "    \n",
    "    parsed_results=parse_toprated(results)\n",
    "    \n",
    "    save_data(\"TMDB_toprated.csv\",parsed_results)\n",
    "    p+=1"
   ]
  },
  {
   "cell_type": "code",
   "execution_count": 68,
   "metadata": {},
   "outputs": [
    {
     "name": "stdout",
     "output_type": "stream",
     "text": [
      "358\n"
     ]
    }
   ],
   "source": [
    "print(p)"
   ]
  },
  {
   "cell_type": "code",
   "execution_count": 72,
   "metadata": {},
   "outputs": [
    {
     "data": {
      "text/plain": [
       "array([19404,   278,   238, ...,  5491, 11059, 14164], dtype=int64)"
      ]
     },
     "execution_count": 72,
     "metadata": {},
     "output_type": "execute_result"
    }
   ],
   "source": [
    "toprated_df=pd.read_csv('TMDB_toprated.csv')\n",
    "mov_ids=toprated_df['id'].values\n",
    "mov_ids"
   ]
  },
  {
   "cell_type": "code",
   "execution_count": 70,
   "metadata": {},
   "outputs": [],
   "source": [
    "def get_movie_details(mov_id,api_key):\n",
    "    url2='https://api.themoviedb.org/3/movie/{}?api_key={}'.format(mov_id,api_key)\n",
    "    response=requests.get(url2)\n",
    "    return response.json()"
   ]
  },
  {
   "cell_type": "code",
   "execution_count": 76,
   "metadata": {},
   "outputs": [],
   "source": [
    "def parse_movie(mov_data):\n",
    "    parsed_data=[\n",
    "        mov_data['id'],mov_data['imdb_id'],mov_data['budget'],mov_data['revenue'],\n",
    "        [genre['name'] for genre in mov_data['genres']],mov_data['original_title'],\n",
    "        [c['name'] for c in mov_data['production_countries']],mov_data['runtime'],mov_data['status']\n",
    "    ]\n",
    "    return parsed_data"
   ]
  },
  {
   "cell_type": "code",
   "execution_count": 78,
   "metadata": {},
   "outputs": [],
   "source": [
    "with open(\"TMDB_movie_details.csv\", \"w\", newline=\"\", encoding='utf-8') as m:\n",
    "    writer = csv.writer(m)\n",
    "    writer.writerows([['id','imdb_id','budget','revenue','genre_names','original_title','production_countries',\n",
    "                       'runtime','status']])"
   ]
  },
  {
   "cell_type": "code",
   "execution_count": 88,
   "metadata": {},
   "outputs": [],
   "source": [
    "for mov_id in mov_ids[4996:]:\n",
    "    mov_info=get_movie_details(mov_id,tapi_key)\n",
    "    \n",
    "    parsed_mov=[parse_movie(mov_info)]\n",
    "    \n",
    "    save_data(\"TMDB_movie_details.csv\", parsed_mov)"
   ]
  },
  {
   "cell_type": "code",
   "execution_count": 115,
   "metadata": {},
   "outputs": [],
   "source": [
    "df2=pd.read_csv('TMDB_movie_details.csv')\n",
    "countries=df2['production_countries'].values"
   ]
  },
  {
   "cell_type": "code",
   "execution_count": 143,
   "metadata": {},
   "outputs": [
    {
     "data": {
      "text/plain": [
       "list"
      ]
     },
     "execution_count": 143,
     "metadata": {},
     "output_type": "execute_result"
    }
   ],
   "source": [
    "import ast\n",
    "type(ast.literal_eval(df2['production_countries'].values[0]))"
   ]
  },
  {
   "cell_type": "code",
   "execution_count": 147,
   "metadata": {},
   "outputs": [],
   "source": [
    "df2['USA']=np.where('United States of America' in df2['countries'],1,0)"
   ]
  },
  {
   "cell_type": "code",
   "execution_count": 145,
   "metadata": {},
   "outputs": [],
   "source": [
    "df2['countries']=df2['production_countries'].apply(lambda x: ast.literal_eval(x))"
   ]
  },
  {
   "cell_type": "code",
   "execution_count": 155,
   "metadata": {},
   "outputs": [],
   "source": [
    "df2['USA']=df2['countries'].apply(lambda x: 'United States of America' in x)"
   ]
  },
  {
   "cell_type": "code",
   "execution_count": 163,
   "metadata": {},
   "outputs": [
    {
     "data": {
      "text/html": [
       "<div>\n",
       "<style scoped>\n",
       "    .dataframe tbody tr th:only-of-type {\n",
       "        vertical-align: middle;\n",
       "    }\n",
       "\n",
       "    .dataframe tbody tr th {\n",
       "        vertical-align: top;\n",
       "    }\n",
       "\n",
       "    .dataframe thead th {\n",
       "        text-align: right;\n",
       "    }\n",
       "</style>\n",
       "<table border=\"1\" class=\"dataframe\">\n",
       "  <thead>\n",
       "    <tr style=\"text-align: right;\">\n",
       "      <th></th>\n",
       "      <th>id</th>\n",
       "      <th>imdb_id</th>\n",
       "      <th>countries</th>\n",
       "      <th>USA</th>\n",
       "    </tr>\n",
       "  </thead>\n",
       "  <tbody>\n",
       "    <tr>\n",
       "      <th>0</th>\n",
       "      <td>19404</td>\n",
       "      <td>tt0112870</td>\n",
       "      <td>[India]</td>\n",
       "      <td>False</td>\n",
       "    </tr>\n",
       "    <tr>\n",
       "      <th>1</th>\n",
       "      <td>278</td>\n",
       "      <td>tt0111161</td>\n",
       "      <td>[United States of America]</td>\n",
       "      <td>True</td>\n",
       "    </tr>\n",
       "    <tr>\n",
       "      <th>2</th>\n",
       "      <td>238</td>\n",
       "      <td>tt0068646</td>\n",
       "      <td>[United States of America]</td>\n",
       "      <td>True</td>\n",
       "    </tr>\n",
       "    <tr>\n",
       "      <th>3</th>\n",
       "      <td>424</td>\n",
       "      <td>tt0108052</td>\n",
       "      <td>[United States of America]</td>\n",
       "      <td>True</td>\n",
       "    </tr>\n",
       "    <tr>\n",
       "      <th>4</th>\n",
       "      <td>42269</td>\n",
       "      <td>tt0075793</td>\n",
       "      <td>[Italy]</td>\n",
       "      <td>False</td>\n",
       "    </tr>\n",
       "    <tr>\n",
       "      <th>5</th>\n",
       "      <td>240</td>\n",
       "      <td>tt0071562</td>\n",
       "      <td>[United States of America]</td>\n",
       "      <td>True</td>\n",
       "    </tr>\n",
       "    <tr>\n",
       "      <th>6</th>\n",
       "      <td>372058</td>\n",
       "      <td>tt5311514</td>\n",
       "      <td>[Japan]</td>\n",
       "      <td>False</td>\n",
       "    </tr>\n",
       "    <tr>\n",
       "      <th>7</th>\n",
       "      <td>496243</td>\n",
       "      <td>tt6751668</td>\n",
       "      <td>[South Korea]</td>\n",
       "      <td>False</td>\n",
       "    </tr>\n",
       "    <tr>\n",
       "      <th>8</th>\n",
       "      <td>129</td>\n",
       "      <td>tt0245429</td>\n",
       "      <td>[Japan]</td>\n",
       "      <td>False</td>\n",
       "    </tr>\n",
       "    <tr>\n",
       "      <th>9</th>\n",
       "      <td>497</td>\n",
       "      <td>tt0120689</td>\n",
       "      <td>[United States of America]</td>\n",
       "      <td>True</td>\n",
       "    </tr>\n",
       "    <tr>\n",
       "      <th>10</th>\n",
       "      <td>680</td>\n",
       "      <td>tt0110912</td>\n",
       "      <td>[United States of America]</td>\n",
       "      <td>True</td>\n",
       "    </tr>\n",
       "    <tr>\n",
       "      <th>11</th>\n",
       "      <td>637</td>\n",
       "      <td>tt0118799</td>\n",
       "      <td>[Italy]</td>\n",
       "      <td>False</td>\n",
       "    </tr>\n",
       "    <tr>\n",
       "      <th>12</th>\n",
       "      <td>620683</td>\n",
       "      <td>tt10611372</td>\n",
       "      <td>[Brazil]</td>\n",
       "      <td>False</td>\n",
       "    </tr>\n",
       "    <tr>\n",
       "      <th>13</th>\n",
       "      <td>13</td>\n",
       "      <td>tt0109830</td>\n",
       "      <td>[United States of America]</td>\n",
       "      <td>True</td>\n",
       "    </tr>\n",
       "    <tr>\n",
       "      <th>14</th>\n",
       "      <td>311</td>\n",
       "      <td>tt0087843</td>\n",
       "      <td>[United States of America, Italy]</td>\n",
       "      <td>True</td>\n",
       "    </tr>\n",
       "  </tbody>\n",
       "</table>\n",
       "</div>"
      ],
      "text/plain": [
       "        id     imdb_id                          countries    USA\n",
       "0    19404   tt0112870                            [India]  False\n",
       "1      278   tt0111161         [United States of America]   True\n",
       "2      238   tt0068646         [United States of America]   True\n",
       "3      424   tt0108052         [United States of America]   True\n",
       "4    42269   tt0075793                            [Italy]  False\n",
       "5      240   tt0071562         [United States of America]   True\n",
       "6   372058   tt5311514                            [Japan]  False\n",
       "7   496243   tt6751668                      [South Korea]  False\n",
       "8      129   tt0245429                            [Japan]  False\n",
       "9      497   tt0120689         [United States of America]   True\n",
       "10     680   tt0110912         [United States of America]   True\n",
       "11     637   tt0118799                            [Italy]  False\n",
       "12  620683  tt10611372                           [Brazil]  False\n",
       "13      13   tt0109830         [United States of America]   True\n",
       "14     311   tt0087843  [United States of America, Italy]   True"
      ]
     },
     "execution_count": 163,
     "metadata": {},
     "output_type": "execute_result"
    }
   ],
   "source": [
    "df2[['id','imdb_id','countries','USA']].head(15)"
   ]
  },
  {
   "cell_type": "code",
   "execution_count": 159,
   "metadata": {},
   "outputs": [
    {
     "data": {
      "text/plain": [
       "(5332, 11)"
      ]
     },
     "execution_count": 159,
     "metadata": {},
     "output_type": "execute_result"
    }
   ],
   "source": [
    "df2[df2['USA']==True].shape"
   ]
  },
  {
   "cell_type": "code",
   "execution_count": null,
   "metadata": {},
   "outputs": [],
   "source": []
  }
 ],
 "metadata": {
  "kernelspec": {
   "display_name": "Python 3",
   "language": "python",
   "name": "python3"
  },
  "language_info": {
   "codemirror_mode": {
    "name": "ipython",
    "version": 3
   },
   "file_extension": ".py",
   "mimetype": "text/x-python",
   "name": "python",
   "nbconvert_exporter": "python",
   "pygments_lexer": "ipython3",
   "version": "3.7.6"
  }
 },
 "nbformat": 4,
 "nbformat_minor": 4
}
