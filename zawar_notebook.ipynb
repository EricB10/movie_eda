{
 "cells": [
  {
   "cell_type": "code",
   "execution_count": 244,
   "metadata": {},
   "outputs": [],
   "source": [
    "import csv\n",
    "import time\n",
    "import ast\n",
    "import requests\n",
    "from bs4 import BeautifulSoup \n",
    "import pandas as pd\n",
    "import numpy as np\n",
    "import matplotlib.pyplot as plt\n",
    "from zawar_keys import tapi_key\n",
    "from zawar_functions import *"
   ]
  },
  {
   "cell_type": "markdown",
   "metadata": {},
   "source": [
    "### Getting Top Rated Movies from TMDB API"
   ]
  },
  {
   "cell_type": "code",
   "execution_count": 66,
   "metadata": {},
   "outputs": [],
   "source": [
    "with open(\"TMDB_toprated.csv\", \"w\", newline=\"\", encoding='utf-8') as f:\n",
    "    writer = csv.writer(f)\n",
    "    writer.writerows([['id','title','original_language','avg_vote','vote_count','popularity','genres','release_date','adult']])"
   ]
  },
  {
   "cell_type": "code",
   "execution_count": 67,
   "metadata": {},
   "outputs": [],
   "source": [
    "p=1\n",
    "while p<=357:\n",
    "    url_params['page']=p\n",
    "    \n",
    "    results=get_tmdb_toprated(url_params,tapi_key)\n",
    "    \n",
    "    parsed_results=parse_toprated(results)\n",
    "    \n",
    "    save_data(\"TMDB_toprated.csv\",parsed_results)\n",
    "    p+=1"
   ]
  },
  {
   "cell_type": "markdown",
   "metadata": {},
   "source": [
    "### Getting Movie Details"
   ]
  },
  {
   "cell_type": "code",
   "execution_count": 72,
   "metadata": {},
   "outputs": [
    {
     "data": {
      "text/plain": [
       "array([19404,   278,   238, ...,  5491, 11059, 14164], dtype=int64)"
      ]
     },
     "execution_count": 72,
     "metadata": {},
     "output_type": "execute_result"
    }
   ],
   "source": [
    "toprated_df=pd.read_csv('TMDB_toprated.csv')\n",
    "mov_ids=toprated_df['id'].values\n",
    "mov_ids"
   ]
  },
  {
   "cell_type": "code",
   "execution_count": 78,
   "metadata": {},
   "outputs": [],
   "source": [
    "with open(\"TMDB_movie_details.csv\", \"w\", newline=\"\", encoding='utf-8') as m:\n",
    "    writer = csv.writer(m)\n",
    "    writer.writerows([['id','imdb_id','budget','revenue','genre_names','original_title','production_countries',\n",
    "                       'runtime','status']])"
   ]
  },
  {
   "cell_type": "code",
   "execution_count": 88,
   "metadata": {},
   "outputs": [],
   "source": [
    "for mov_id in mov_ids[4996:]:\n",
    "    mov_info=get_movie_details(mov_id,tapi_key)\n",
    "    \n",
    "    parsed_mov=[parse_movie(mov_info)]\n",
    "    \n",
    "    save_data(\"TMDB_movie_details.csv\", parsed_mov)"
   ]
  },
  {
   "cell_type": "markdown",
   "metadata": {},
   "source": [
    "### Webscraping Cumulative Worldwide Revenue for Movies from IMDB Website:"
   ]
  },
  {
   "cell_type": "code",
   "execution_count": 237,
   "metadata": {},
   "outputs": [
    {
     "data": {
      "text/plain": [
       "(1015, 16)"
      ]
     },
     "execution_count": 237,
     "metadata": {},
     "output_type": "execute_result"
    }
   ],
   "source": [
    "df3= pd.read_csv('clean_df.csv')\n",
    "df3.shape"
   ]
  },
  {
   "cell_type": "code",
   "execution_count": 234,
   "metadata": {},
   "outputs": [],
   "source": [
    "imdb_ids=df3['imdb_id'].values"
   ]
  },
  {
   "cell_type": "code",
   "execution_count": 239,
   "metadata": {},
   "outputs": [],
   "source": [
    "\n",
    "cum_revenues=[]\n",
    "for imdb_id in imdb_ids:\n",
    "    imdb_url='https://www.imdb.com/title/{}'.format(imdb_id)\n",
    "    page=requests.get(imdb_url)\n",
    "    soup=BeautifulSoup(page.text,'html.parser')\n",
    "    details=soup.find('div', id='main_bottom').find('div', id='titleDetails')\n",
    "    l=details.find_all('div',class_='txt-block')\n",
    "    n=np.nan\n",
    "    for x in l:\n",
    "        \n",
    "        try:\n",
    "            if x.h4.text=='Cumulative Worldwide Gross:':\n",
    "                n=x.contents[2].strip()\n",
    "        except:\n",
    "            continue\n",
    "    cum_revenues.append([imdb_id,n])\n",
    "    time.sleep(.2)"
   ]
  },
  {
   "cell_type": "code",
   "execution_count": 242,
   "metadata": {},
   "outputs": [],
   "source": [
    "with open(\"cumulative_revenue.csv\", \"w\", newline=\"\", encoding='utf-8') as y:\n",
    "    writer = csv.writer(y)\n",
    "    writer.writerows([['imdb_id','cumulative_revenue']])"
   ]
  },
  {
   "cell_type": "code",
   "execution_count": 243,
   "metadata": {},
   "outputs": [],
   "source": [
    "save_data('cumulative_revenue.csv', cum_revenues)"
   ]
  },
  {
   "cell_type": "code",
   "execution_count": null,
   "metadata": {},
   "outputs": [],
   "source": []
  }
 ],
 "metadata": {
  "kernelspec": {
   "display_name": "Python 3",
   "language": "python",
   "name": "python3"
  },
  "language_info": {
   "codemirror_mode": {
    "name": "ipython",
    "version": 3
   },
   "file_extension": ".py",
   "mimetype": "text/x-python",
   "name": "python",
   "nbconvert_exporter": "python",
   "pygments_lexer": "ipython3",
   "version": "3.7.6"
  }
 },
 "nbformat": 4,
 "nbformat_minor": 4
}
